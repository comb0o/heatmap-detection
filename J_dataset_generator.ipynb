{
 "cells": [
  {
   "cell_type": "code",
   "execution_count": 1,
   "metadata": {
    "execution": {
     "iopub.execute_input": "2025-10-13T12:35:46.236556Z",
     "iopub.status.busy": "2025-10-13T12:35:46.236319Z",
     "iopub.status.idle": "2025-10-13T12:35:46.238918Z",
     "shell.execute_reply": "2025-10-13T12:35:46.238525Z",
     "shell.execute_reply.started": "2025-10-13T12:35:46.236538Z"
    }
   },
   "outputs": [],
   "source": [
    "# %pip install opencv-python-headless selenium"
   ]
  },
  {
   "cell_type": "code",
   "execution_count": 1,
   "metadata": {
    "execution": {
     "iopub.execute_input": "2025-10-13T14:38:03.849502Z",
     "iopub.status.busy": "2025-10-13T14:38:03.849221Z",
     "iopub.status.idle": "2025-10-13T14:38:03.861036Z",
     "shell.execute_reply": "2025-10-13T14:38:03.860643Z",
     "shell.execute_reply.started": "2025-10-13T14:38:03.849485Z"
    }
   },
   "outputs": [],
   "source": [
    "%load_ext autoreload\n",
    "%autoreload 2"
   ]
  },
  {
   "cell_type": "code",
   "execution_count": 2,
   "metadata": {
    "execution": {
     "iopub.execute_input": "2025-10-13T14:38:05.040584Z",
     "iopub.status.busy": "2025-10-13T14:38:05.040212Z",
     "iopub.status.idle": "2025-10-13T14:38:08.052782Z",
     "shell.execute_reply": "2025-10-13T14:38:08.052229Z",
     "shell.execute_reply.started": "2025-10-13T14:38:05.040559Z"
    }
   },
   "outputs": [],
   "source": [
    "from utils.heatmap_generator.heatmap import generate_dataset\n",
    "from utils.heatmap_generator.background import CaptureWebsite"
   ]
  },
  {
   "cell_type": "code",
   "execution_count": 34,
   "metadata": {
    "execution": {
     "iopub.execute_input": "2025-10-13T15:20:15.419703Z",
     "iopub.status.busy": "2025-10-13T15:20:15.419417Z",
     "iopub.status.idle": "2025-10-13T15:20:15.450729Z",
     "shell.execute_reply": "2025-10-13T15:20:15.450280Z",
     "shell.execute_reply.started": "2025-10-13T15:20:15.419684Z"
    }
   },
   "outputs": [],
   "source": [
    "import matplotlib.pyplot as plt\n",
    "import os\n",
    "import random\n",
    "import cv2\n",
    "\n",
    "def show_image_with_boxes(image_path, label_path):\n",
    "    \"\"\"\n",
    "    Load an image and its corresponding .txt labels, then display\n",
    "    the image with bounding boxes overlaid.\n",
    "\n",
    "    :param image_path: Path to the colored image (BGR on disk).\n",
    "    :param label_path: Path to the .txt file with lines \"x_min y_min x_max y_max\".\n",
    "    \"\"\"\n",
    "    # 1. Load & convert to RGB\n",
    "    img_bgr = cv2.imread(image_path)\n",
    "    img_rgb = cv2.cvtColor(img_bgr, cv2.COLOR_BGR2RGB)\n",
    "\n",
    "    # 2. Read boxes\n",
    "    boxes = []\n",
    "    with open(label_path, 'r') as f:\n",
    "        for line in f:\n",
    "            l_x_min, l_y_min, l_x_max, l_y_max, s_x_min, s_y_min, s_x_max, s_y_max = map(int, line.strip().split())\n",
    "            boxes.append((l_x_min, l_y_min, l_x_max, l_y_max, s_x_min, s_y_min, s_x_max, s_y_max))\n",
    "\n",
    "    # 3. Plot\n",
    "    fig, ax = plt.subplots(1, figsize=(6, 6))\n",
    "    ax.imshow(img_rgb)\n",
    "    for l_x_min, l_y_min, l_x_max, l_y_max, s_x_min, s_y_min, s_x_max, s_y_max in boxes:\n",
    "        rect = plt.Rectangle(\n",
    "            (l_x_min, l_y_min),\n",
    "            l_x_max - l_x_min,\n",
    "            l_y_max - l_y_min,\n",
    "            linewidth=2,\n",
    "            edgecolor='red',\n",
    "            facecolor='none'\n",
    "        )\n",
    "        ax.add_patch(rect)\n",
    "\n",
    "        rect = plt.Rectangle(\n",
    "            (s_x_min, s_y_min),\n",
    "            s_x_max - s_x_min,\n",
    "            s_y_max - s_y_min,\n",
    "            linewidth=2,\n",
    "            edgecolor='green',\n",
    "            facecolor='none'\n",
    "        )\n",
    "        ax.add_patch(rect)\n",
    "\n",
    "    ax.axis('off')\n",
    "    plt.tight_layout()\n",
    "    plt.show()\n",
    "\n",
    "\n",
    "def visualize_random_samples(img_dir, lbl_dir, num_samples=5):\n",
    "    \"\"\"\n",
    "    Pick a few random images from img_dir and display them with boxes.\n",
    "\n",
    "    :param img_dir: Directory containing .jpg images.\n",
    "    :param lbl_dir: Directory containing .txt labels.\n",
    "    :param num_samples: How many random samples to display.\n",
    "    \"\"\"\n",
    "    img_files = [f for f in os.listdir(img_dir) if f.lower().endswith('.jpg')]\n",
    "    samples = random.sample(img_files, min(num_samples, len(img_files)))\n",
    "\n",
    "    for img_name in samples:\n",
    "        img_path = os.path.join(img_dir, img_name)\n",
    "        lbl_path = os.path.join(lbl_dir, img_name.replace('.jpg', '.txt'))\n",
    "        show_image_with_boxes(img_path, lbl_path)\n",
    "\n"
   ]
  },
  {
   "cell_type": "code",
   "execution_count": 54,
   "metadata": {
    "execution": {
     "iopub.execute_input": "2025-10-13T15:55:31.618115Z",
     "iopub.status.busy": "2025-10-13T15:55:31.617515Z",
     "iopub.status.idle": "2025-10-13T15:55:31.648019Z",
     "shell.execute_reply": "2025-10-13T15:55:31.647560Z",
     "shell.execute_reply.started": "2025-10-13T15:55:31.618092Z"
    }
   },
   "outputs": [],
   "source": [
    "IMAGE_DIR = 'images'\n",
    "LABEL_DIR = 'labels'\n",
    "IMAGE_SIZE = (128, 128)\n",
    "SIGMA_RANGE = (5, 10)\n",
    "OFFSET_RANGE = (2, 50)\n",
    "NUM_IMAGES = 15000\n",
    "MAX_BLOBS = 10\n",
    "BOX_SIZES = [0.95, 1.15]\n",
    "OUTPUT_DIR = 'data/hm_dataset_min_max_bg'\n"
   ]
  },
  {
   "cell_type": "code",
   "execution_count": 55,
   "metadata": {
    "execution": {
     "iopub.execute_input": "2025-10-13T15:55:32.882771Z",
     "iopub.status.busy": "2025-10-13T15:55:32.882481Z",
     "iopub.status.idle": "2025-10-13T15:55:32.910072Z",
     "shell.execute_reply": "2025-10-13T15:55:32.909626Z",
     "shell.execute_reply.started": "2025-10-13T15:55:32.882751Z"
    }
   },
   "outputs": [],
   "source": [
    "# cw = CaptureWebsite(url=\"http://www.verisure.it\", image_size=IMAGE_SIZE)\n",
    "# cw.run(150)\n",
    "# cw.save(\"saves/backgrounds.pt\")"
   ]
  },
  {
   "cell_type": "code",
   "execution_count": 56,
   "metadata": {
    "execution": {
     "iopub.execute_input": "2025-10-13T15:55:33.703748Z",
     "iopub.status.busy": "2025-10-13T15:55:33.703454Z",
     "iopub.status.idle": "2025-10-13T15:55:33.753177Z",
     "shell.execute_reply": "2025-10-13T15:55:33.752750Z",
     "shell.execute_reply.started": "2025-10-13T15:55:33.703727Z"
    }
   },
   "outputs": [
    {
     "name": "stdout",
     "output_type": "stream",
     "text": [
      "150\n"
     ]
    }
   ],
   "source": [
    "import torch\n",
    "\n",
    "background_tensors = torch.load(\"saves/backgrounds.pt\")\n",
    "print(len(background_tensors))"
   ]
  },
  {
   "cell_type": "code",
   "execution_count": null,
   "metadata": {
    "execution": {
     "iopub.execute_input": "2025-10-13T15:55:36.961187Z",
     "iopub.status.busy": "2025-10-13T15:55:36.960894Z"
    }
   },
   "outputs": [],
   "source": [
    "generate_dataset(\n",
    "    num_images = NUM_IMAGES,\n",
    "    image_size = IMAGE_SIZE,\n",
    "    max_blobs = MAX_BLOBS,\n",
    "    box_sizes = BOX_SIZES,\n",
    "    sigma_range = SIGMA_RANGE,\n",
    "    offset_range = OFFSET_RANGE,\n",
    "    output_dir = OUTPUT_DIR,\n",
    "    background_tensors = background_tensors,\n",
    "    background_alpha = 1.0\n",
    ")\n"
   ]
  },
  {
   "cell_type": "code",
   "execution_count": null,
   "metadata": {},
   "outputs": [],
   "source": [
    "visualize_random_samples(os.path.join(OUTPUT_DIR,IMAGE_DIR), os.path.join(OUTPUT_DIR,LABEL_DIR), num_samples=10)\n"
   ]
  },
  {
   "cell_type": "code",
   "execution_count": 46,
   "metadata": {
    "execution": {
     "iopub.execute_input": "2025-10-10T10:05:32.868579Z",
     "iopub.status.busy": "2025-10-10T10:05:32.868409Z",
     "iopub.status.idle": "2025-10-10T10:05:32.871138Z",
     "shell.execute_reply": "2025-10-10T10:05:32.870655Z",
     "shell.execute_reply.started": "2025-10-10T10:05:32.868563Z"
    }
   },
   "outputs": [],
   "source": [
    "# import os\n",
    "\n",
    "# def get_folder_size(path):\n",
    "#     total_size = 0\n",
    "#     for dirpath, dirnames, filenames in os.walk(path):\n",
    "#         for f in filenames:\n",
    "#             fp = os.path.join(dirpath, f)\n",
    "#             if os.path.exists(fp):\n",
    "#                 total_size += os.path.getsize(fp)\n",
    "#     return total_size\n",
    "\n",
    "# folder_path = os.getcwd() + \"/\" +BlockingIOError OUTPUT_DIR\n",
    "# size_bytes = get_folder_size(folder_path)\n",
    "# print(f\"Folder size: {size_bytes / (1024 * 1024):.2f} MB\")\n"
   ]
  },
  {
   "cell_type": "code",
   "execution_count": 47,
   "metadata": {
    "execution": {
     "iopub.execute_input": "2025-10-10T10:05:32.872122Z",
     "iopub.status.busy": "2025-10-10T10:05:32.871912Z",
     "iopub.status.idle": "2025-10-10T10:05:32.876713Z",
     "shell.execute_reply": "2025-10-10T10:05:32.876282Z",
     "shell.execute_reply.started": "2025-10-10T10:05:32.872106Z"
    }
   },
   "outputs": [
    {
     "data": {
      "text/plain": [
       "'\\nimport os\\n\\n# Define the target directory\\ndirectory = \\'data/hm_dataset_min_max/images\\'\\n\\n# Get full paths of all files in the directory\\nall_files = [os.path.join(directory, f) for f in os.listdir(directory) if os.path.isfile(os.path.join(directory, f))]\\n\\n# Set batch size\\nbatch_size = 100\\n\\n# Loop through and delete files in batches\\nfor i in range(0, len(all_files), batch_size):\\n    batch = all_files[i:i + batch_size]\\n    for file_path in batch:\\n        try:\\n            os.remove(file_path)\\n            print(f\"Deleted: {file_path}\")\\n        except Exception as e:\\n            print(f\"Error deleting {file_path}: {e}\")\\n    print(f\"✅ Batch {i // batch_size + 1} completed.\")\\n'"
      ]
     },
     "execution_count": 47,
     "metadata": {},
     "output_type": "execute_result"
    }
   ],
   "source": [
    "'''\n",
    "import os\n",
    "\n",
    "# Define the target directory\n",
    "directory = 'data/hm_dataset_min_max/images'\n",
    "\n",
    "# Get full paths of all files in the directory\n",
    "all_files = [os.path.join(directory, f) for f in os.listdir(directory) if os.path.isfile(os.path.join(directory, f))]\n",
    "\n",
    "# Set batch size\n",
    "batch_size = 100\n",
    "\n",
    "# Loop through and delete files in batches\n",
    "for i in range(0, len(all_files), batch_size):\n",
    "    batch = all_files[i:i + batch_size]\n",
    "    for file_path in batch:\n",
    "        try:\n",
    "            os.remove(file_path)\n",
    "            print(f\"Deleted: {file_path}\")\n",
    "        except Exception as e:\n",
    "            print(f\"Error deleting {file_path}: {e}\")\n",
    "    print(f\"✅ Batch {i // batch_size + 1} completed.\")\n",
    "'''"
   ]
  },
  {
   "cell_type": "code",
   "execution_count": 239,
   "metadata": {
    "execution": {
     "iopub.execute_input": "2025-09-29T14:40:37.146747Z",
     "iopub.status.busy": "2025-09-29T14:40:37.146429Z",
     "iopub.status.idle": "2025-09-29T14:40:37.200708Z",
     "shell.execute_reply": "2025-09-29T14:40:37.200235Z",
     "shell.execute_reply.started": "2025-09-29T14:40:37.146729Z"
    }
   },
   "outputs": [
    {
     "name": "stdout",
     "output_type": "stream",
     "text": [
      "Chosen sigmas (σx, σy): (10.869408195643889, 9.682396919880048)\n"
     ]
    },
    {
     "data": {
      "image/png": "[encoded data removed]",
      "text/plain": [
       "<Figure size 400x400 with 1 Axes>"
      ]
     },
     "metadata": {},
     "output_type": "display_data"
    }
   ],
   "source": [
    "import numpy as np\n",
    "import random\n",
    "from scipy.stats import skewnorm\n",
    "\n",
    "def generate_skewed_blob(image_size,\n",
    "                         center,\n",
    "                         sigma_x_range,\n",
    "                         sigma_y_range,\n",
    "                         alpha_x_range,\n",
    "                         alpha_y_range):\n",
    "    \"\"\"\n",
    "    Create a fully asymmetric (skewed) Gaussian-like blob and\n",
    "    return it along with the selected sigmas.\n",
    "\n",
    "    :param image_size: Tuple[int, int] (height, width) of the output image\n",
    "    :param center: Tuple[int, int] (x, y) pixel coordinates of the blob center\n",
    "    :param sigma_x_range: Tuple[float, float] range from which to pick σx\n",
    "    :param sigma_y_range: Tuple[float, float] range from which to pick σy\n",
    "    :param alpha_x_range: Tuple[float, float] range from which to pick αx (skew on x)\n",
    "    :param alpha_y_range: Tuple[float, float] range from which to pick αy (skew on y)\n",
    "    :return:\n",
    "        blob: np.ndarray of shape (height, width), values in [0,1]\n",
    "        sigma: Tuple[float, float] = (σx, σy)\n",
    "    \"\"\"\n",
    "    h, w = image_size\n",
    "    cx, cy = center\n",
    "\n",
    "    # pick random scales and skews\n",
    "    sigma_x = random.uniform(*sigma_x_range)\n",
    "    sigma_y = random.uniform(*sigma_y_range)\n",
    "    alpha_x = random.uniform(*alpha_x_range)\n",
    "    alpha_y = random.uniform(*alpha_y_range)\n",
    "\n",
    "    # build coordinate grid relative to center\n",
    "    xs = np.arange(w) - cx\n",
    "    ys = np.arange(h) - cy\n",
    "    xv, yv = np.meshgrid(xs, ys)\n",
    "\n",
    "    # normalize by chosen sigmas\n",
    "    nx = xv / sigma_x\n",
    "    ny = yv / sigma_y\n",
    "\n",
    "    # skew-normal marginals\n",
    "    fx = skewnorm.pdf(nx, a=alpha_x)\n",
    "    fy = skewnorm.pdf(ny, a=alpha_y)\n",
    "\n",
    "    # joint asymmetric blob\n",
    "    blob = fx * fy\n",
    "\n",
    "    # normalize to [0,1]\n",
    "    if blob.max() > 0:\n",
    "        blob /= blob.max()\n",
    "\n",
    "    # return in the same style as the original function\n",
    "    sigma = (sigma_x, sigma_y)\n",
    "    return blob, sigma\n",
    "\n",
    "\n",
    "# Example usage\n",
    "if __name__ == \"__main__\":\n",
    "    import matplotlib.pyplot as plt\n",
    "\n",
    "    # generate one blob\n",
    "    blob, sigma = generate_skewed_blob(\n",
    "        image_size=(100, 100),\n",
    "        center=(50, 50),\n",
    "        sigma_x_range=(3.0, 12.0),\n",
    "        sigma_y_range=(3.0, 12.0),\n",
    "        alpha_x_range=(-1.0, 1.0),\n",
    "        alpha_y_range=(-1.0, 1.0)\n",
    "    )\n",
    "\n",
    "    print(\"Chosen sigmas (σx, σy):\", sigma)\n",
    "\n",
    "    # plot\n",
    "    plt.figure(figsize=(4, 4))\n",
    "    plt.imshow(blob, cmap=\"inferno\")\n",
    "    plt.title(f\"Skewed Blob\\nσx={sigma[0]:.2f}, σy={sigma[1]:.2f}\")\n",
    "    plt.axis(\"off\")\n",
    "    plt.show()\n"
   ]
  }
 ],
 "metadata": {
  "kernelspec": {
   "display_name": "base",
   "language": "python",
   "name": "python3"
  },
  "language_info": {
   "codemirror_mode": {
    "name": "ipython",
    "version": 3
   },
   "file_extension": ".py",
   "mimetype": "text/x-python",
   "name": "python",
   "nbconvert_exporter": "python",
   "pygments_lexer": "ipython3",
   "version": "3.11.7"
  }
 },
 "nbformat": 4,
 "nbformat_minor": 4
}
